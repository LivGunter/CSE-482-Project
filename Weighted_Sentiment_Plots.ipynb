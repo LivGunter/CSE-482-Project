{
 "cells": [
  {
   "cell_type": "markdown",
   "id": "3ec0d1d5",
   "metadata": {},
   "source": [
    "# Imports"
   ]
  },
  {
   "cell_type": "code",
   "execution_count": 1,
   "id": "cf43e9b1",
   "metadata": {},
   "outputs": [
    {
     "name": "stdout",
     "output_type": "stream",
     "text": [
      "Requirement already satisfied: vl-convert-python in /opt/anaconda3/lib/python3.12/site-packages (1.7.0)\r\n"
     ]
    }
   ],
   "source": [
    "!pip install vl-convert-python"
   ]
  },
  {
   "cell_type": "code",
   "execution_count": 2,
   "id": "5b1848fe",
   "metadata": {},
   "outputs": [
    {
     "name": "stdout",
     "output_type": "stream",
     "text": [
      "Requirement already satisfied: vl-convert-python in /Users/addivuppala/anaconda3/lib/python3.11/site-packages (1.7.0)\r\n"
     ]
    }
   ],
   "source": [
    "import sys\n",
    "!{sys.executable} -m pip install vl-convert-python"
   ]
  },
  {
   "cell_type": "code",
   "execution_count": 3,
   "id": "448bfa17",
   "metadata": {},
   "outputs": [
    {
     "name": "stdout",
     "output_type": "stream",
     "text": [
      "vl-convert-python is installed and importable.\n"
     ]
    }
   ],
   "source": [
    "try:\n",
    "    import vl_convert\n",
    "    print(\"vl-convert-python is installed and importable.\")\n",
    "except ImportError:\n",
    "    print(\"vl-convert-python is NOT installed or not found in the current environment.\")"
   ]
  },
  {
   "cell_type": "code",
   "execution_count": 4,
   "id": "6b869c7f",
   "metadata": {},
   "outputs": [],
   "source": [
    "import pandas as pd\n",
    "import matplotlib.pyplot as plt"
   ]
  },
  {
   "cell_type": "markdown",
   "id": "c3adb24b",
   "metadata": {},
   "source": [
    "# Read in the data"
   ]
  },
  {
   "cell_type": "code",
   "execution_count": 5,
   "id": "ff964d20",
   "metadata": {},
   "outputs": [
    {
     "data": {
      "text/html": [
       "<div>\n",
       "<style scoped>\n",
       "    .dataframe tbody tr th:only-of-type {\n",
       "        vertical-align: middle;\n",
       "    }\n",
       "\n",
       "    .dataframe tbody tr th {\n",
       "        vertical-align: top;\n",
       "    }\n",
       "\n",
       "    .dataframe thead th {\n",
       "        text-align: right;\n",
       "    }\n",
       "</style>\n",
       "<table border=\"1\" class=\"dataframe\">\n",
       "  <thead>\n",
       "    <tr style=\"text-align: right;\">\n",
       "      <th></th>\n",
       "      <th>state_code</th>\n",
       "      <th>time_stamp</th>\n",
       "      <th>type</th>\n",
       "      <th>weighted_sentiment</th>\n",
       "      <th>bert_label</th>\n",
       "      <th>year</th>\n",
       "      <th>month</th>\n",
       "    </tr>\n",
       "  </thead>\n",
       "  <tbody>\n",
       "    <tr>\n",
       "      <th>0</th>\n",
       "      <td>NJ</td>\n",
       "      <td>2025-04-03 14:29:00</td>\n",
       "      <td>neg</td>\n",
       "      <td>-0.200000</td>\n",
       "      <td>-1</td>\n",
       "      <td>2025</td>\n",
       "      <td>4</td>\n",
       "    </tr>\n",
       "    <tr>\n",
       "      <th>1</th>\n",
       "      <td>TX</td>\n",
       "      <td>2025-04-03 00:07:00</td>\n",
       "      <td>neg</td>\n",
       "      <td>-80.000000</td>\n",
       "      <td>-1</td>\n",
       "      <td>2025</td>\n",
       "      <td>4</td>\n",
       "    </tr>\n",
       "    <tr>\n",
       "      <th>2</th>\n",
       "      <td>TX</td>\n",
       "      <td>2025-04-02 21:06:00</td>\n",
       "      <td>pos</td>\n",
       "      <td>46.000000</td>\n",
       "      <td>1</td>\n",
       "      <td>2025</td>\n",
       "      <td>4</td>\n",
       "    </tr>\n",
       "    <tr>\n",
       "      <th>3</th>\n",
       "      <td>VA</td>\n",
       "      <td>2025-04-02 20:57:00</td>\n",
       "      <td>neg</td>\n",
       "      <td>-12.000000</td>\n",
       "      <td>-1</td>\n",
       "      <td>2025</td>\n",
       "      <td>4</td>\n",
       "    </tr>\n",
       "    <tr>\n",
       "      <th>4</th>\n",
       "      <td>WI</td>\n",
       "      <td>2025-04-02 20:55:00</td>\n",
       "      <td>neutral</td>\n",
       "      <td>0.000000</td>\n",
       "      <td>0</td>\n",
       "      <td>2025</td>\n",
       "      <td>4</td>\n",
       "    </tr>\n",
       "    <tr>\n",
       "      <th>...</th>\n",
       "      <td>...</td>\n",
       "      <td>...</td>\n",
       "      <td>...</td>\n",
       "      <td>...</td>\n",
       "      <td>...</td>\n",
       "      <td>...</td>\n",
       "      <td>...</td>\n",
       "    </tr>\n",
       "    <tr>\n",
       "      <th>6223</th>\n",
       "      <td>TX</td>\n",
       "      <td>2025-03-31 11:01:00</td>\n",
       "      <td>neutral</td>\n",
       "      <td>0.000000</td>\n",
       "      <td>0</td>\n",
       "      <td>2025</td>\n",
       "      <td>3</td>\n",
       "    </tr>\n",
       "    <tr>\n",
       "      <th>6224</th>\n",
       "      <td>VA</td>\n",
       "      <td>2025-03-31 13:58:00</td>\n",
       "      <td>pos</td>\n",
       "      <td>296.000000</td>\n",
       "      <td>1</td>\n",
       "      <td>2025</td>\n",
       "      <td>3</td>\n",
       "    </tr>\n",
       "    <tr>\n",
       "      <th>6225</th>\n",
       "      <td>WI</td>\n",
       "      <td>2025-03-31 14:51:00</td>\n",
       "      <td>neutral</td>\n",
       "      <td>0.000000</td>\n",
       "      <td>0</td>\n",
       "      <td>2025</td>\n",
       "      <td>3</td>\n",
       "    </tr>\n",
       "    <tr>\n",
       "      <th>6226</th>\n",
       "      <td>ME</td>\n",
       "      <td>2025-03-31 15:27:00</td>\n",
       "      <td>pos</td>\n",
       "      <td>0.108696</td>\n",
       "      <td>1</td>\n",
       "      <td>2025</td>\n",
       "      <td>3</td>\n",
       "    </tr>\n",
       "    <tr>\n",
       "      <th>6227</th>\n",
       "      <td>WI</td>\n",
       "      <td>2025-03-31 15:50:00</td>\n",
       "      <td>neg</td>\n",
       "      <td>-30.000000</td>\n",
       "      <td>-1</td>\n",
       "      <td>2025</td>\n",
       "      <td>3</td>\n",
       "    </tr>\n",
       "  </tbody>\n",
       "</table>\n",
       "<p>6228 rows × 7 columns</p>\n",
       "</div>"
      ],
      "text/plain": [
       "     state_code           time_stamp     type  weighted_sentiment  bert_label  \\\n",
       "0            NJ  2025-04-03 14:29:00      neg           -0.200000          -1   \n",
       "1            TX  2025-04-03 00:07:00      neg          -80.000000          -1   \n",
       "2            TX  2025-04-02 21:06:00      pos           46.000000           1   \n",
       "3            VA  2025-04-02 20:57:00      neg          -12.000000          -1   \n",
       "4            WI  2025-04-02 20:55:00  neutral            0.000000           0   \n",
       "...         ...                  ...      ...                 ...         ...   \n",
       "6223         TX  2025-03-31 11:01:00  neutral            0.000000           0   \n",
       "6224         VA  2025-03-31 13:58:00      pos          296.000000           1   \n",
       "6225         WI  2025-03-31 14:51:00  neutral            0.000000           0   \n",
       "6226         ME  2025-03-31 15:27:00      pos            0.108696           1   \n",
       "6227         WI  2025-03-31 15:50:00      neg          -30.000000          -1   \n",
       "\n",
       "      year  month  \n",
       "0     2025      4  \n",
       "1     2025      4  \n",
       "2     2025      4  \n",
       "3     2025      4  \n",
       "4     2025      4  \n",
       "...    ...    ...  \n",
       "6223  2025      3  \n",
       "6224  2025      3  \n",
       "6225  2025      3  \n",
       "6226  2025      3  \n",
       "6227  2025      3  \n",
       "\n",
       "[6228 rows x 7 columns]"
      ]
     },
     "execution_count": 5,
     "metadata": {},
     "output_type": "execute_result"
    }
   ],
   "source": [
    "weighted_sentiment = pd.read_csv(\"Weighted_Sentiment.csv\")\n",
    "weighted_sentiment"
   ]
  },
  {
   "cell_type": "markdown",
   "id": "55f39d4b",
   "metadata": {},
   "source": [
    "I added a cvs file called “weighted_sentiment” If one of you guys could make some plots for the sum weight sentiment of each state for 2023-2025 that would be great \n",
    "A plot for each year I mean"
   ]
  },
  {
   "cell_type": "code",
   "execution_count": 6,
   "id": "9d333a6b",
   "metadata": {},
   "outputs": [
    {
     "data": {
      "text/plain": [
       "array(['NJ', 'TX', 'VA', 'WI', 'IN', 'NY', 'OH', 'OK', 'WA', 'CT', 'IA',\n",
       "       'ND', 'PA', 'CA', 'CO', 'KS', 'KY', 'MA', 'MI', 'NC', 'OR', 'FL',\n",
       "       'IL', 'NM', 'GA', 'AZ', 'NV', 'LA', 'NH', 'AL', 'NE', 'ID', 'MD',\n",
       "       'HI', 'MN', 'AR', 'MT', 'AK', 'MO', 'SC', 'SD', 'TN', 'UT', 'VT',\n",
       "       'WV', 'WY', 'DE', 'ME', 'MS', 'RI'], dtype=object)"
      ]
     },
     "execution_count": 6,
     "metadata": {},
     "output_type": "execute_result"
    }
   ],
   "source": [
    "states = weighted_sentiment[\"state_code\"].unique()\n",
    "states"
   ]
  },
  {
   "cell_type": "code",
   "execution_count": 7,
   "id": "018ff78c",
   "metadata": {},
   "outputs": [
    {
     "name": "stdout",
     "output_type": "stream",
     "text": [
      "PNG images of the sentiment plots for each year have been saved.\n"
     ]
    }
   ],
   "source": [
    "import altair as alt\n",
    "\n",
    "# Filter data for years 2023, 2024, and 2025\n",
    "df_filtered = weighted_sentiment[weighted_sentiment['year'].isin([2023, 2024, 2025])].copy()\n",
    "\n",
    "# Group by 'year' and 'state' and calculate the sum of 'weighted_sentimentbert_label'\n",
    "df_agg = df_filtered.groupby(['year', 'state_code'])['weighted_sentiment'].sum().reset_index()\n",
    "\n",
    "# Create the chart for each year\n",
    "for year in df_agg['year'].unique():\n",
    "    chart_data = df_agg[df_agg['year'] == year]\n",
    "    chart = alt.Chart(chart_data).mark_bar().encode(\n",
    "        x = alt.X('state_code', title='State'),\n",
    "        y = alt.Y('weighted_sentiment', title='Total Weighted Sentiment'),\n",
    "        tooltip = ['state_code', 'weighted_sentiment']).properties(\n",
    "        title = f'Total Weighted Sentiment per State in {year}').interactive()\n",
    "\n",
    "    # Save the chart as a PNG file\n",
    "    chart.save(f'sentiment_per_state_{year}.png')\n",
    "\n",
    "print(\"PNG images of the sentiment plots for each year have been saved.\")\n"
   ]
  },
  {
   "cell_type": "code",
   "execution_count": 8,
   "id": "45ecde55",
   "metadata": {},
   "outputs": [
    {
     "data": {
      "text/html": [
       "<div>\n",
       "<style scoped>\n",
       "    .dataframe tbody tr th:only-of-type {\n",
       "        vertical-align: middle;\n",
       "    }\n",
       "\n",
       "    .dataframe tbody tr th {\n",
       "        vertical-align: top;\n",
       "    }\n",
       "\n",
       "    .dataframe thead th {\n",
       "        text-align: right;\n",
       "    }\n",
       "</style>\n",
       "<table border=\"1\" class=\"dataframe\">\n",
       "  <thead>\n",
       "    <tr style=\"text-align: right;\">\n",
       "      <th></th>\n",
       "      <th>year</th>\n",
       "      <th>state_code</th>\n",
       "      <th>weighted_sentiment</th>\n",
       "    </tr>\n",
       "  </thead>\n",
       "  <tbody>\n",
       "    <tr>\n",
       "      <th>0</th>\n",
       "      <td>2023</td>\n",
       "      <td>AK</td>\n",
       "      <td>190.428571</td>\n",
       "    </tr>\n",
       "    <tr>\n",
       "      <th>1</th>\n",
       "      <td>2023</td>\n",
       "      <td>AL</td>\n",
       "      <td>2.164069</td>\n",
       "    </tr>\n",
       "    <tr>\n",
       "      <th>2</th>\n",
       "      <td>2023</td>\n",
       "      <td>AR</td>\n",
       "      <td>103.000000</td>\n",
       "    </tr>\n",
       "    <tr>\n",
       "      <th>3</th>\n",
       "      <td>2023</td>\n",
       "      <td>AZ</td>\n",
       "      <td>-1930.440095</td>\n",
       "    </tr>\n",
       "    <tr>\n",
       "      <th>4</th>\n",
       "      <td>2023</td>\n",
       "      <td>CA</td>\n",
       "      <td>13032.227948</td>\n",
       "    </tr>\n",
       "    <tr>\n",
       "      <th>...</th>\n",
       "      <td>...</td>\n",
       "      <td>...</td>\n",
       "      <td>...</td>\n",
       "    </tr>\n",
       "    <tr>\n",
       "      <th>141</th>\n",
       "      <td>2025</td>\n",
       "      <td>VT</td>\n",
       "      <td>-10241.997085</td>\n",
       "    </tr>\n",
       "    <tr>\n",
       "      <th>142</th>\n",
       "      <td>2025</td>\n",
       "      <td>WA</td>\n",
       "      <td>22633.653667</td>\n",
       "    </tr>\n",
       "    <tr>\n",
       "      <th>143</th>\n",
       "      <td>2025</td>\n",
       "      <td>WI</td>\n",
       "      <td>3130.908753</td>\n",
       "    </tr>\n",
       "    <tr>\n",
       "      <th>144</th>\n",
       "      <td>2025</td>\n",
       "      <td>WV</td>\n",
       "      <td>132.746032</td>\n",
       "    </tr>\n",
       "    <tr>\n",
       "      <th>145</th>\n",
       "      <td>2025</td>\n",
       "      <td>WY</td>\n",
       "      <td>0.000000</td>\n",
       "    </tr>\n",
       "  </tbody>\n",
       "</table>\n",
       "<p>146 rows × 3 columns</p>\n",
       "</div>"
      ],
      "text/plain": [
       "     year state_code  weighted_sentiment\n",
       "0    2023         AK          190.428571\n",
       "1    2023         AL            2.164069\n",
       "2    2023         AR          103.000000\n",
       "3    2023         AZ        -1930.440095\n",
       "4    2023         CA        13032.227948\n",
       "..    ...        ...                 ...\n",
       "141  2025         VT       -10241.997085\n",
       "142  2025         WA        22633.653667\n",
       "143  2025         WI         3130.908753\n",
       "144  2025         WV          132.746032\n",
       "145  2025         WY            0.000000\n",
       "\n",
       "[146 rows x 3 columns]"
      ]
     },
     "execution_count": 8,
     "metadata": {},
     "output_type": "execute_result"
    }
   ],
   "source": [
    "df_agg"
   ]
  },
  {
   "cell_type": "code",
   "execution_count": null,
   "id": "25de309b",
   "metadata": {},
   "outputs": [],
   "source": []
  }
 ],
 "metadata": {
  "kernelspec": {
   "display_name": "Python 3 (ipykernel)",
   "language": "python",
   "name": "python3"
  },
  "language_info": {
   "codemirror_mode": {
    "name": "ipython",
    "version": 3
   },
   "file_extension": ".py",
   "mimetype": "text/x-python",
   "name": "python",
   "nbconvert_exporter": "python",
   "pygments_lexer": "ipython3",
   "version": "3.11.5"
  }
 },
 "nbformat": 4,
 "nbformat_minor": 5
}
