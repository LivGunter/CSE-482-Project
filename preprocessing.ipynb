{
 "cells": [
  {
   "cell_type": "code",
   "execution_count": 1,
   "id": "e080f47d-ba13-4c5b-add7-4f9206821ddf",
   "metadata": {},
   "outputs": [
    {
     "name": "stdout",
     "output_type": "stream",
     "text": [
      "Preprocessed data saved to preprocessed_tesla_reddit_data.csv\n"
     ]
    }
   ],
   "source": [
    "import pandas as pd\n",
    "import re\n",
    "from datetime import datetime\n",
    "\n",
    "def preprocess_reddit_data(file_path, output_path):\n",
    "    df = pd.read_csv(file_path)\n",
    "    \n",
    "    df.drop(columns=['Unnamed: 0'], inplace=True, errors='ignore')\n",
    "    \n",
    "    df['selftext'] = df['selftext'].fillna('')\n",
    "    \n",
    "    df['created_utc'] = df['created_utc'].apply(lambda x: datetime.utcfromtimestamp(x).strftime('%Y-%m-%d %H:%M:%S'))\n",
    "    \n",
    "    def clean_text(text):\n",
    "        text = text.lower()  \n",
    "        text = re.sub(r'\\W+', ' ', text)\n",
    "        return text.strip()\n",
    "    \n",
    "    df['title'] = df['title'].apply(clean_text)\n",
    "    df['selftext'] = df['selftext'].apply(clean_text)\n",
    "    \n",
    "    df.drop_duplicates(inplace=True)\n",
    "    \n",
    "    df.to_csv(output_path, index=False)\n",
    "    print(f\"Preprocessed data saved to {output_path}\")\n",
    "\n",
    "output_file = \"preprocessed_tesla_reddit_data.csv\"\n",
    "preprocess_reddit_data(input_file, output_file)"
   ]
  },
  {
   "cell_type": "code",
   "execution_count": null,
   "id": "aac9d14a-4fd7-40a1-9279-94dd7525a803",
   "metadata": {},
   "outputs": [],
   "source": []
  }
 ],
 "metadata": {
  "kernelspec": {
   "display_name": "Python 3.11 (default)",
   "language": "python",
   "name": "python3"
  },
  "language_info": {
   "codemirror_mode": {
    "name": "ipython",
    "version": 3
   },
   "file_extension": ".py",
   "mimetype": "text/x-python",
   "name": "python",
   "nbconvert_exporter": "python",
   "pygments_lexer": "ipython3",
   "version": "3.11.11"
  }
 },
 "nbformat": 4,
 "nbformat_minor": 5
}
