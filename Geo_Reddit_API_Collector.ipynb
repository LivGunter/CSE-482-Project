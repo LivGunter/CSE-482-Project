{
 "cells": [
  {
   "cell_type": "code",
   "execution_count": 62,
   "id": "f1512926",
   "metadata": {},
   "outputs": [],
   "source": [
    "import pandas as pd\n",
    "import re\n",
    "from datetime import datetime\n",
    "import praw\n",
    "import pandas as pd\n",
    "import matplotlib.pyplot as plt\n",
    "\n",
    "\n",
    "\n",
    "reddit = praw.Reddit(client_id = \"QC3sHGjf2WVbx3rZnzJBzw\",\n",
    "                     client_secret = \"z7-Qudmgrz4Hj9KXKHT3GYKFiAeg4g\",\n",
    "                     user_agent = \"CSE_482_project by Round_Lab_9338\")"
   ]
  },
  {
   "cell_type": "code",
   "execution_count": 28,
   "id": "728d2f6d-c9ee-4cab-9420-6e6347b01e74",
   "metadata": {},
   "outputs": [],
   "source": [
    "states = ['Alabama', 'Alaska', 'Arizona', 'Arkansas', 'California', 'Colorado', 'Connecticut','Delaware', 'Florida', 'Georgia', 'Hawaii',\n",
    "          'Idaho', 'Illinois', 'Indiana', 'Iowa', 'Kansas', 'Kentucky', 'Louisiana', 'Maine', 'Maryland', 'Massachusetts', 'Michigan',\n",
    "          'Minnesota', 'Mississippi', 'Missouri', 'Montana', 'Nebraska', 'Nevada', 'NewHampshire', 'newjersey', 'NewMexico', 'NewYork',\n",
    "          'NorthCarolina', 'NorthDakota', 'Ohio', 'Oklahoma', 'Oregon', 'Pennsylvania', 'RhodeIsland', 'SouthCarolina', 'SouthDakota',\n",
    "          'Tennessee', 'Texas', 'Utah', 'Vermont', 'Virginia', 'Washington', 'WestVirginia', 'Wisconsin','Wyoming']\n",
    "states = list(map(lambda x: x.lower(), states))\n",
    "\n",
    "# Cities subbreddits are key, and states are the values\n",
    "cities_to_state = {'birmingham':'alabama',\n",
    "                   'fairbanks':'alaska',\n",
    "                   'phoenix': 'arizona', 'tucson': 'arizona',\n",
    "                   'littlerock':'arkansas', 'fayetteville':'arkansas',\n",
    "                   'losangeles':'california','sandiego':'california', 'santarosa':'california', 'santabarbara':'california', 'sanfrancisco':'california', 'palmsprings':'california',\n",
    "                   'coloradosprings':'colorado', 'aurora':'colorado',\n",
    "                   'hartford':'connecticut',\n",
    "                   'miami':'flordia', 'orlando': 'flordia', 'jacksonville':'flordia',\n",
    "                   'atlanta':'georgia', 'augusta':'georgia', 'roswell':'georgia',\n",
    "                   'honolulu':'hawaii',\n",
    "                   'boise':'idaho', 'nampa':'idaho',\n",
    "                   'naperville':'illinois', 'chicago':'illinois',\n",
    "                   'indianapolis':'indiana', 'bloomington':'indiana',\n",
    "                   'iowacity':'iowa', 'desmoines':'iowa',\n",
    "                   'wichita':'kansas', 'kansascity':'kansas',\n",
    "                   'louisville':'kentucky', 'lexington':'Kentucky',\n",
    "                   'neworleans':'louisiana', 'shreveport':'louisiana',\n",
    "                   'frederickmd':'maryland', 'annapolis':'maryland',\n",
    "                   'boston':'massachusetts', 'salem':'massachusetts',\n",
    "                   'annarbor':\"michigan\", \"grandrapids\":\"michigan\", 'detroit':\"michigan\", 'ferndale':'michigan',\n",
    "                   #couldn't find a subreddit for cities in maine\n",
    "                   'minneapolis':'minnesota', 'duluth':'minnesota',\n",
    "                   'jacksonmi':'mississippi', 'tupelo':'mississippi',\n",
    "                   'bransonmo':'missouri', 'springfield':'missouri',\n",
    "                   'bozeman':'montana', 'helena':'montana',\n",
    "                   'omaha':'nebraska', 'kearney':'nebraska',\n",
    "                   'lasvegas':'nevada', 'sparksnv':'nevada', 'reno':'nevada', 'HendersonNV':'nevada',\n",
    "                   'portsmouthnh':'newhampshire', 'manchesternh':'newhampshire',\n",
    "                   'southjersey':'newjersey', 'newark':'newjersey', 'jerseycity':'newjersey',\n",
    "                   'roswellnm':'newmexico', 'albuquerque':'newmexico',\n",
    "                   'nyc':'newyork', 'pittsburgh':'newyork', 'buffalo':'newyork', 'columbia':'newyork', 'albany':'newyork',\n",
    "                   'charlotte':'northcarolina', 'wilmington':'northcarolina', 'greenvillencarolina': 'northcarolina',\n",
    "                   'fargo':'northdakota', 'bismarck':'northdakota', 'minot':'northdakota',\n",
    "                   'columbus':'ohio', 'cleveland':'ohio', 'toledo':'ohio', 'cincinnati':'ohio', 'dayton':'ohio', 'akron':'ohio',\n",
    "                   'tulsa':'oklahoma', 'okc':'oklahoma', #this is oklahoma city subreddit\n",
    "                   'portland':'oregon', 'portlandor':'oregon', 'bend': 'oregon', 'eugene':'oregon',\n",
    "                   'philadelphia':'pennsylvania','philly':'pennsylvania', 'pittsburgh':'pennsylvania', 'harrisburg':'pennsylvania', 'erie':'pennsylvania',\n",
    "                    # rhode island is a city\n",
    "                   'charleston':'southcarolina', 'myrtlebeach':'southcarolina', 'greenville':'southcarolina',\n",
    "                   'siouxFalls':'southdakota', 'pierre':'southdakota',\n",
    "                   'nashville':'tennessee', 'memphis':'tennessee', 'knoxville':'tennessee',\n",
    "                   'houston':'texas', 'dallas':'texas', 'sanantonio':'texas', 'austin':'texas', 'elpaso':'texas', 'fortworth':'texas', 'lubbock':'texas', 'bedford':'texas',\n",
    "                   'saltlakecity':'utah', 'provoUtah':'utah', 'stgeorge':'utah',\n",
    "                   'burlington':'vermont', 'montpelier':'vermont',\n",
    "                   'langley':'virginia', 'richmondva':'virginia',\n",
    "                   'seattle':'washington', 'seattlewa':'washington',\n",
    "                   'morgantownwv':'westvirginia', 'parkersburg':'westvirginia',\n",
    "                   'milwaukee':'wisconsin', 'madisonwi':'wisconsin', 'appleton':'wisconsin',\n",
    "                   'cheyenne':'wyoming', 'casper':'wyoming'}\n"
   ]
  },
  {
   "cell_type": "code",
   "execution_count": 17,
   "id": "26fa9114-02d2-4056-9169-522729194a8f",
   "metadata": {},
   "outputs": [],
   "source": [
    "# City to state converter.\n",
    "# https://github.com/zazencodes/city_to_state_dictionary/blob/master/US%20City%20to%20State%20dictionary.ipynb\n",
    "saved_tesla = pd.read_csv(\"tesla_reddit_data3.csv\")\n",
    "\n",
    "def findstate(post_sub):\n",
    "    sub_name = str(post_sub).lower()\n",
    "    if sub_name in states:\n",
    "        return sub_name\n",
    "    elif sub_name in cities_to_state:\n",
    "            return cities_to_state[sub_name]\n",
    "    else:\n",
    "        return \"unkown\"\n",
    "        \n",
    "def getpost(subred, find, time):\n",
    "    subreddit = reddit.subreddit(subred)\n",
    "    unique_posts_id = set()\n",
    "    posts = []\n",
    "    for post in subreddit.search(find, time_filter=time):\n",
    "        # print(subred)\n",
    "        if post.id not in unique_posts_id:\n",
    "            unique_posts_id.add(post.id)\n",
    "            posts.append({\n",
    "                'id': post.id,\n",
    "                'title': post.title,\n",
    "                'selftext': post.selftext,\n",
    "                'subreddit': post.subreddit.display_name,\n",
    "                'url': post.url,\n",
    "                'created_utc': post.created_utc,\n",
    "                'upvotes': post.score,\n",
    "                'comments': post.num_comments,\n",
    "                'state': findstate(post.subreddit.display_name)\n",
    "            })\n",
    "    return pd.DataFrame(posts)\n",
    "\n",
    "def get_state_post(time):\n",
    "    new_tesla = pd.DataFrame([])\n",
    "    states_col = []\n",
    "    for state in states:\n",
    "        post = getpost(state, 'tesla', time)\n",
    "        if post.shape[0] !=0:\n",
    "            new_tesla = pd.concat([new_tesla, post], axis = 0)\n",
    "\n",
    "    new_tesla['created_utc'] = new_tesla['created_utc'].apply(lambda x: datetime.utcfromtimestamp(x).strftime('%Y-%m-%d %H:%M:%S'))\n",
    "    return new_tesla\n",
    "\n",
    "def get_city_post(time):\n",
    "    new_tesla = pd.DataFrame([])\n",
    "    states_col = []\n",
    "    for city in cities_subbredit:\n",
    "        print(city, end ='\\t')\n",
    "        post = getpost(city, 'tesla', time)\n",
    "        if post.shape[0] !=0:\n",
    "            new_tesla = pd.concat([new_tesla, post], axis = 0)\n",
    "\n",
    "    new_tesla['created_utc'] = new_tesla['created_utc'].apply(lambda x: datetime.utcfromtimestamp(x).strftime('%Y-%m-%d %H:%M:%S'))\n",
    "    return new_tesla\n",
    "\n"
   ]
  },
  {
   "cell_type": "markdown",
   "id": "05b03b99-6d96-4eb9-b927-c84053b72d75",
   "metadata": {},
   "source": [
    "# Scratch work below\n",
    "\n",
    "get_state_post() and get_cities_post() just need in a time variable to run: 'all', 'year','month', 'week' or 'day'"
   ]
  },
  {
   "cell_type": "code",
   "execution_count": 44,
   "id": "8a13fa4e-6f8c-4c18-b109-2c385ea75f9a",
   "metadata": {},
   "outputs": [
    {
     "name": "stderr",
     "output_type": "stream",
     "text": [
      "C:\\Users\\olivi\\AppData\\Local\\Temp\\ipykernel_39812\\4143237611.py:43: DeprecationWarning: datetime.datetime.utcfromtimestamp() is deprecated and scheduled for removal in a future version. Use timezone-aware objects to represent datetimes in UTC: datetime.datetime.fromtimestamp(timestamp, datetime.UTC).\n",
      "  new_tesla['created_utc'] = new_tesla['created_utc'].apply(lambda x: datetime.utcfromtimestamp(x).strftime('%Y-%m-%d %H:%M:%S'))\n"
     ]
    }
   ],
   "source": [
    "new_post_state = get_state_post('week')"
   ]
  },
  {
   "cell_type": "code",
   "execution_count": 46,
   "id": "9da1a5fa-90a4-444f-86ac-5ff667a46f9d",
   "metadata": {},
   "outputs": [
    {
     "name": "stdout",
     "output_type": "stream",
     "text": [
      "birmingham\tfairbanks\tphoenix\ttucson\tlittlerock\tfayetteville\tlosangeles\tsandiego\tsantarosa\tsantabarbara\tsanfrancisco\tpalmsprings\tcoloradosprings\taurora\thartford\tmiami\torlando\tjacksonville\tatlanta\taugusta\troswell\thonolulu\tboise\tnampa\tnaperville\tchicago\tindianapolis\tbloomington\tiowacity\tdesmoines\twichita\tkansascity\tlouisville\tlexington\tneworleans\tshreveport\tfrederickmd\tannapolis\tboston\tsalem\tannarbor\tgrandrapids\tdetroit\tferndale\tminneapolis\tduluth\tjacksonmi\ttupelo\tbransonmo\tspringfield\tbozeman\thelena\tomaha\tkearney\tlasvegas\tsparksnv\treno\tHendersonNV\tportsmouthnh\tmanchesternh\tsouthjersey\tnewark\tjerseycity\troswellnm\talbuquerque\tnyc\tpittsburgh\tbuffalo\tcolumbia\talbany\tcharlotte\twilmington\tgreenvillencarolina\tfargo\tbismarck\tminot\tcolumbus\tcleveland\ttoledo\tcincinnati\tdayton\takron\ttulsa\tokc\tportland\tportlandor\tbend\teugene\tphiladelphia\tphilly\tharrisburg\terie\tcharleston\tmyrtlebeach\tgreenville\tsiouxFalls\tpierre\tnashville\tmemphis\tknoxville\thouston\tdallas\tsanantonio\taustin\telpaso\tfortworth\tlubbock\tbedford\tsaltlakecity\tprovoUtah\tstgeorge\tburlington\tmontpelier\tlangley\trichmondva\tseattle\tseattlewa\tmorgantownwv\tparkersburg\tmilwaukee\tmadisonwi\tappleton\tcheyenne\tcasper\t"
     ]
    },
    {
     "name": "stderr",
     "output_type": "stream",
     "text": [
      "C:\\Users\\olivi\\AppData\\Local\\Temp\\ipykernel_39812\\4143237611.py:55: DeprecationWarning: datetime.datetime.utcfromtimestamp() is deprecated and scheduled for removal in a future version. Use timezone-aware objects to represent datetimes in UTC: datetime.datetime.fromtimestamp(timestamp, datetime.UTC).\n",
      "  new_tesla['created_utc'] = new_tesla['created_utc'].apply(lambda x: datetime.utcfromtimestamp(x).strftime('%Y-%m-%d %H:%M:%S'))\n"
     ]
    }
   ],
   "source": [
    "new_post_state = get_city_post('week')"
   ]
  },
  {
   "cell_type": "code",
   "execution_count": 65,
   "id": "07786086-00a3-4298-ad53-4895d9b0aafe",
   "metadata": {},
   "outputs": [],
   "source": [
    "post_to_save = pd.DataFrame()"
   ]
  },
  {
   "cell_type": "code",
   "execution_count": 50,
   "id": "89d83ea0-35d4-437b-a5c7-b00227b2dda2",
   "metadata": {},
   "outputs": [
    {
     "data": {
      "text/plain": [
       "(4369, 9)"
      ]
     },
     "execution_count": 50,
     "metadata": {},
     "output_type": "execute_result"
    }
   ],
   "source": [
    "post_to_save = pd.concat([post_to_save, new_post_state], axis = 0)\n",
    "post_to_save = post_to_save.drop_duplicates(subset=['id'])\n",
    "post_to_save.shape"
   ]
  },
  {
   "cell_type": "markdown",
   "id": "7c33b065-4c72-4a8c-a156-a75c8fe933b4",
   "metadata": {},
   "source": [
    "## For add new data to CSV\n",
    "Be careful not to erase old data"
   ]
  },
  {
   "cell_type": "code",
   "execution_count": 52,
   "id": "1e5afaa5-b8e3-4c69-8e6e-a91f9a182f18",
   "metadata": {},
   "outputs": [],
   "source": [
    "saved_post= pd.read_csv('tesla_only_geo_data.csv')"
   ]
  },
  {
   "cell_type": "code",
   "execution_count": 54,
   "id": "7eef79a8-4b92-4a00-aa91-af6d87ba5642",
   "metadata": {},
   "outputs": [
    {
     "data": {
      "text/plain": [
       "(6207, 9)"
      ]
     },
     "execution_count": 54,
     "metadata": {},
     "output_type": "execute_result"
    }
   ],
   "source": [
    "post_to_save = pd.concat([post_to_save, saved_post], axis = 0)\n",
    "post_to_save = post_to_save.drop_duplicates(subset=['id'])\n",
    "post_to_save.shape"
   ]
  },
  {
   "cell_type": "code",
   "execution_count": 60,
   "id": "7d9ad8d5-7483-44da-9993-2f43f5073a2c",
   "metadata": {},
   "outputs": [],
   "source": [
    "post_to_save.to_csv('tesla_only_geo_data.csv',index=False)"
   ]
  },
  {
   "cell_type": "code",
   "execution_count": 224,
   "id": "fc8d0e98-a70c-42be-9fd9-6fcb59671c47",
   "metadata": {},
   "outputs": [],
   "source": [
    "#df.to_csv('file_name.csv',index=False)"
   ]
  }
 ],
 "metadata": {
  "kernelspec": {
   "display_name": "Python [conda env:base] *",
   "language": "python",
   "name": "conda-base-py"
  },
  "language_info": {
   "codemirror_mode": {
    "name": "ipython",
    "version": 3
   },
   "file_extension": ".py",
   "mimetype": "text/x-python",
   "name": "python",
   "nbconvert_exporter": "python",
   "pygments_lexer": "ipython3",
   "version": "3.12.7"
  }
 },
 "nbformat": 4,
 "nbformat_minor": 5
}
